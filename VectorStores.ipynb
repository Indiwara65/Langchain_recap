{
 "cells": [
  {
   "cell_type": "markdown",
   "metadata": {},
   "source": [
    "### Retrival Documents\n",
    "* Step 1 - Load documents\n",
    "* Step 2 - Split documets\n",
    "* Step 3 - Encode and store in a vectorstore\n",
    "* Step 4 - Retrival"
   ]
  },
  {
   "cell_type": "markdown",
   "metadata": {},
   "source": [
    "#### Load Documents             \n",
    "* Langchain have multiple document loaders buildin which loads a document into **langchain_core.documents.base.Document** type.          \n",
    "* Langchain have several inbulit document loaders - \n",
    "    * CSV      \n",
    "    * HTML         \n",
    "    * JSON        \n",
    "    * Markdown      \n",
    "    * PDF      \n",
    "    * Microsoft"
   ]
  },
  {
   "cell_type": "code",
   "execution_count": 20,
   "metadata": {},
   "outputs": [],
   "source": [
    "from langchain_core.document_loaders import BaseLoader\n",
    "from langchain_core.documents import Document\n",
    "from typing import Iterator\n",
    "\n",
    "class TextDocumentLoader(BaseLoader):\n",
    "    def __init__(self, path:str):\n",
    "        self.path = path     #file path\n",
    "    def lazy_load(self) -> Iterator[Document]:\n",
    "        with open(self.path, encoding='utf=8') as file:\n",
    "            for i,line in enumerate(file):\n",
    "                yield Document(page_content=line,metadata={'line_number':i})\n",
    "    def load(self) -> list[Document]:\n",
    "        return super().load()\n",
    "    def full_load(self) -> Document:\n",
    "        with open(self.path, encoding='utf-8') as file:\n",
    "            text = file.read()\n",
    "            return Document(page_content=text, metadata={'file_path':self.path})"
   ]
  },
  {
   "cell_type": "code",
   "execution_count": null,
   "metadata": {},
   "outputs": [
    {
     "name": "stdout",
     "output_type": "stream",
     "text": [
      "page_content='Hello this is line 1.\n",
      "' metadata={'line_number': 0}\n",
      "page_content='This is the 2nd line of the document.\n",
      "' metadata={'line_number': 1}\n",
      "page_content='This is the 3rd line of the document.\n",
      "' metadata={'line_number': 2}\n",
      "page_content='This is the 4th and the final line of the document.' metadata={'line_number': 3}\n"
     ]
    }
   ],
   "source": [
    "from pathlib import Path\n",
    "\n",
    "file_path = Path(\"text.txt\")\n",
    "loader = TextDocumentLoader(file_path).lazy_load()\n",
    "for doc in loader:\n",
    "    print(doc)"
   ]
  },
  {
   "cell_type": "code",
   "execution_count": 17,
   "metadata": {},
   "outputs": [
    {
     "data": {
      "text/plain": [
       "[Document(metadata={'line_number': 0}, page_content='Hello this is line 1.\\n'),\n",
       " Document(metadata={'line_number': 1}, page_content='This is the 2nd line of the document.\\n'),\n",
       " Document(metadata={'line_number': 2}, page_content='This is the 3rd line of the document.\\n'),\n",
       " Document(metadata={'line_number': 3}, page_content='This is the 4th and the final line of the document.')]"
      ]
     },
     "execution_count": 17,
     "metadata": {},
     "output_type": "execute_result"
    }
   ],
   "source": [
    "TextDocumentLoader(file_path).load()"
   ]
  },
  {
   "cell_type": "code",
   "execution_count": 22,
   "metadata": {},
   "outputs": [],
   "source": [
    "document = TextDocumentLoader(file_path).full_load()"
   ]
  },
  {
   "cell_type": "markdown",
   "metadata": {},
   "source": [
    "#### Text Splitter              \n",
    "* After a document is loaded the document must be split into text chunks.             \n",
    "* Different statergies can be used to split the text into different chunks.           \n",
    "* Most common text splitters -      \n",
    "    * Character chunker           - split the text from a given special character eg - ('\\n',' ')   \n",
    "    * Recursive character spliter - It is parameterized by a list of characters. It tries to split on them in order until the chunks are small enough.      \n",
    "    * Sematic Chucking            - chuck text based on the sematic relationships between words"
   ]
  },
  {
   "cell_type": "code",
   "execution_count": null,
   "metadata": {},
   "outputs": [
    {
     "data": {
      "text/plain": [
       "(\"\\tThe rapid rise of artificial intelligence has transformed industries across the globe. From healthcare to finance, AI technologies are enabling faster decision-making and automating complex processes. In healthcare, AI-powered systems assist doctors in diagnosing diseases by analyzing medical images, while in finance, algorithms predict market trends and assess risks. As a result, businesses are embracing AI to improve efficiency and gain a competitive edge. \\n\\tMeanwhile, the development of renewable energy sources is reshaping the energy sector. Solar, wind, and hydropower are becoming more viable options as technology advances and costs decrease. Governments worldwide are setting ambitious goals to reduce carbon emissions and combat climate change. This shift toward renewable energy not only mitigates environmental impact but also opens up new opportunities for economic growth and job creation in sustainable industries.\\n\\tLastly, digital transformation is redefining how companies interact with their customers. Online platforms, social media, and mobile applications provide businesses with unprecedented access to consumer data. With this data, companies can personalize their marketing strategies, tailor products to specific audiences, and enhance customer experiences. As a result, digital engagement has become essential for businesses seeking to remain relevant in today's fast-paced digital landscape.\\n\",\n",
       " str)"
      ]
     },
     "execution_count": 44,
     "metadata": {},
     "output_type": "execute_result"
    }
   ],
   "source": [
    "file_path = Path(\"text_para.txt\")\n",
    "with open(file_path, 'r') as file:\n",
    "    text = file.read()\n",
    "\n",
    "text, type(text)"
   ]
  },
  {
   "cell_type": "code",
   "execution_count": 62,
   "metadata": {},
   "outputs": [],
   "source": [
    "##Character Text Splitter\n",
    "from langchain_text_splitters import CharacterTextSplitter\n",
    "\n",
    "\n",
    "character_text_splitter = CharacterTextSplitter(\n",
    "                                                separator=\"\\t\",\n",
    "                                                chunk_size=450,\n",
    "                                                chunk_overlap=50,\n",
    "                                                length_function=len,\n",
    "                                                is_separator_regex=False,)"
   ]
  },
  {
   "cell_type": "code",
   "execution_count": 61,
   "metadata": {},
   "outputs": [
    {
     "name": "stderr",
     "output_type": "stream",
     "text": [
      "Created a chunk of size 464, which is longer than the specified 450\n",
      "Created a chunk of size 470, which is longer than the specified 450\n",
      "Created a chunk of size 464, which is longer than the specified 450\n",
      "Created a chunk of size 470, which is longer than the specified 450\n"
     ]
    },
    {
     "data": {
      "text/plain": [
       "['The rapid rise of artificial intelligence has transformed industries across the globe. From healthcare to finance, AI technologies are enabling faster decision-making and automating complex processes. In healthcare, AI-powered systems assist doctors in diagnosing diseases by analyzing medical images, while in finance, algorithms predict market trends and assess risks. As a result, businesses are embracing AI to improve efficiency and gain a competitive edge.',\n",
       " 'Meanwhile, the development of renewable energy sources is reshaping the energy sector. Solar, wind, and hydropower are becoming more viable options as technology advances and costs decrease. Governments worldwide are setting ambitious goals to reduce carbon emissions and combat climate change. This shift toward renewable energy not only mitigates environmental impact but also opens up new opportunities for economic growth and job creation in sustainable industries.',\n",
       " \"Lastly, digital transformation is redefining how companies interact with their customers. Online platforms, social media, and mobile applications provide businesses with unprecedented access to consumer data. With this data, companies can personalize their marketing strategies, tailor products to specific audiences, and enhance customer experiences. As a result, digital engagement has become essential for businesses seeking to remain relevant in today's fast-paced digital landscape.\"]"
      ]
     },
     "execution_count": 61,
     "metadata": {},
     "output_type": "execute_result"
    }
   ],
   "source": [
    "documents = character_text_splitter.create_documents(texts=[text,])\n",
    "texts = character_text_splitter.split_text(text)\n",
    "texts"
   ]
  },
  {
   "cell_type": "code",
   "execution_count": 64,
   "metadata": {},
   "outputs": [],
   "source": [
    "## Recursive Character Text Splitter\n",
    "\n",
    "from langchain_text_splitters import RecursiveCharacterTextSplitter\n",
    "\n",
    "text_splitter = RecursiveCharacterTextSplitter(separators=['\\t','\\n',' '],\n",
    "                                               chunk_size=450,\n",
    "                                               chunk_overlap=50,\n",
    "                                               length_function=len,\n",
    "                   )"
   ]
  },
  {
   "cell_type": "code",
   "execution_count": 65,
   "metadata": {},
   "outputs": [
    {
     "data": {
      "text/plain": [
       "[Document(metadata={}, page_content='The rapid rise of artificial intelligence has transformed industries across the globe. From healthcare to finance, AI technologies are enabling faster decision-making and automating complex processes. In healthcare, AI-powered systems assist doctors in diagnosing diseases by analyzing medical images, while in finance, algorithms predict market trends and assess risks. As a result, businesses are embracing AI to improve efficiency and gain a'),\n",
       " Document(metadata={}, page_content='are embracing AI to improve efficiency and gain a competitive edge.'),\n",
       " Document(metadata={}, page_content='Meanwhile, the development of renewable energy sources is reshaping the energy sector. Solar, wind, and hydropower are becoming more viable options as technology advances and costs decrease. Governments worldwide are setting ambitious goals to reduce carbon emissions and combat climate change. This shift toward renewable energy not only mitigates environmental impact but also opens up new opportunities for economic growth and job creation in'),\n",
       " Document(metadata={}, page_content='for economic growth and job creation in sustainable industries.'),\n",
       " Document(metadata={}, page_content='Lastly, digital transformation is redefining how companies interact with their customers. Online platforms, social media, and mobile applications provide businesses with unprecedented access to consumer data. With this data, companies can personalize their marketing strategies, tailor products to specific audiences, and enhance customer experiences. As a result, digital engagement has become essential for businesses seeking to remain relevant in'),\n",
       " Document(metadata={}, page_content=\"for businesses seeking to remain relevant in today's fast-paced digital landscape.\")]"
      ]
     },
     "execution_count": 65,
     "metadata": {},
     "output_type": "execute_result"
    }
   ],
   "source": [
    "text_splitter.create_documents(texts=[text,])"
   ]
  },
  {
   "cell_type": "code",
   "execution_count": 70,
   "metadata": {},
   "outputs": [],
   "source": [
    "## Sematic Text Chunker\n",
    "from langchain_experimental.text_splitter import SemanticChunker\n",
    "from langchain_openai import OpenAIEmbeddings\n",
    "from dotenv import load_dotenv\n",
    "import os\n",
    "load_dotenv()\n",
    "\n",
    "text_splitter_1 = SemanticChunker(embeddings=OpenAIEmbeddings(openai_api_key=os.getenv(\"OPENAI_API_KEY\")))\n",
    "text_splitter_2 = SemanticChunker(embeddings=OpenAIEmbeddings(openai_api_key=os.getenv(\"OPENAI_API_KEY\")),breakpoint_threshold_type='percentile',breakpoint_threshold_amount=0.5)\n",
    "text_splitter_3 = SemanticChunker(embeddings=OpenAIEmbeddings(openai_api_key=os.getenv(\"OPENAI_API_KEY\")),breakpoint_threshold_type=\"interquartile\")\n",
    "text_splitter_4 = SemanticChunker(embeddings=OpenAIEmbeddings(openai_api_key=os.getenv(\"OPENAI_API_KEY\")),breakpoint_threshold_type='standard_deviation',breakpoint_threshold_amount=1.9)"
   ]
  },
  {
   "cell_type": "code",
   "execution_count": 71,
   "metadata": {},
   "outputs": [
    {
     "data": {
      "text/plain": [
       "[Document(metadata={}, page_content='\\tThe rapid rise of artificial intelligence has transformed industries across the globe. From healthcare to finance, AI technologies are enabling faster decision-making and automating complex processes. In healthcare, AI-powered systems assist doctors in diagnosing diseases by analyzing medical images, while in finance, algorithms predict market trends and assess risks. As a result, businesses are embracing AI to improve efficiency and gain a competitive edge. Meanwhile, the development of renewable energy sources is reshaping the energy sector. Solar, wind, and hydropower are becoming more viable options as technology advances and costs decrease. Governments worldwide are setting ambitious goals to reduce carbon emissions and combat climate change. This shift toward renewable energy not only mitigates environmental impact but also opens up new opportunities for economic growth and job creation in sustainable industries. Lastly, digital transformation is redefining how companies interact with their customers.'),\n",
       " Document(metadata={}, page_content=\"Online platforms, social media, and mobile applications provide businesses with unprecedented access to consumer data. With this data, companies can personalize their marketing strategies, tailor products to specific audiences, and enhance customer experiences. As a result, digital engagement has become essential for businesses seeking to remain relevant in today's fast-paced digital landscape. \")]"
      ]
     },
     "execution_count": 71,
     "metadata": {},
     "output_type": "execute_result"
    }
   ],
   "source": [
    "text_splitter_1.create_documents(texts=[text,])"
   ]
  },
  {
   "cell_type": "code",
   "execution_count": null,
   "metadata": {},
   "outputs": [],
   "source": [
    "text_splitter_2.create_documents(texts=[text,])"
   ]
  },
  {
   "cell_type": "code",
   "execution_count": null,
   "metadata": {},
   "outputs": [],
   "source": [
    "text_splitter_3.create_documents(texts=[text,])"
   ]
  },
  {
   "cell_type": "code",
   "execution_count": null,
   "metadata": {},
   "outputs": [],
   "source": [
    "text_splitter_4.create_documents(texts=[text,])"
   ]
  },
  {
   "cell_type": "markdown",
   "metadata": {},
   "source": [
    "### VectorStores              \n",
    "* After text is broken down into chunks these chunks can be converted into embeddings using different embedding models and can be saved in\n",
    "a vectorstore.             \n",
    "* Different embedding models can be used for embedding text such as -     \n",
    "    * OpenAI Embeddings                     \n",
    "    * RoBerta        \n",
    "    * BERT         \n",
    "* Different vector stores - \n",
    "    * Pine-Cone          \n",
    "    * Chroma            \n",
    "    * FAISS        "
   ]
  },
  {
   "cell_type": "code",
   "execution_count": null,
   "metadata": {},
   "outputs": [],
   "source": [
    "## Chroma \n"
   ]
  },
  {
   "cell_type": "code",
   "execution_count": 2,
   "metadata": {},
   "outputs": [
    {
     "data": {
      "text/plain": [
       "generator"
      ]
     },
     "execution_count": 2,
     "metadata": {},
     "output_type": "execute_result"
    }
   ],
   "source": [
    "#generator function\n",
    "def count_to_n(n):\n",
    "    count = 1\n",
    "    while count<n+1:\n",
    "        yield count\n",
    "        count += 1\n",
    "\n",
    "counter = count_to_n(10)\n",
    "type(counter)"
   ]
  },
  {
   "cell_type": "code",
   "execution_count": 3,
   "metadata": {},
   "outputs": [
    {
     "name": "stdout",
     "output_type": "stream",
     "text": [
      "count = 1\n",
      "Break\n",
      "count = 2\n",
      "Break\n",
      "count = 3\n",
      "Break\n",
      "count = 4\n",
      "Break\n",
      "count = 5\n",
      "Break\n",
      "count = 6\n",
      "Break\n",
      "count = 7\n",
      "Break\n",
      "count = 8\n",
      "Break\n",
      "count = 9\n",
      "Break\n",
      "count = 10\n",
      "Break\n"
     ]
    }
   ],
   "source": [
    "for count in counter:\n",
    "    print(f\"count = {count}\")\n",
    "    print(\"Break\")"
   ]
  }
 ],
 "metadata": {
  "kernelspec": {
   "display_name": "venv",
   "language": "python",
   "name": "python3"
  },
  "language_info": {
   "codemirror_mode": {
    "name": "ipython",
    "version": 3
   },
   "file_extension": ".py",
   "mimetype": "text/x-python",
   "name": "python",
   "nbconvert_exporter": "python",
   "pygments_lexer": "ipython3",
   "version": "3.11.3"
  }
 },
 "nbformat": 4,
 "nbformat_minor": 2
}

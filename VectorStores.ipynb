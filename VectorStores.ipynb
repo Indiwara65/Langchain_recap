{
 "cells": [
  {
   "cell_type": "markdown",
   "metadata": {},
   "source": [
    "### Retrival Documents\n",
    "* Step 1 - Load documents\n",
    "* Step 2 - Split documets\n",
    "* Step 3 - Encode and store in a vectorstore\n",
    "* Step 4 - Retrival"
   ]
  },
  {
   "cell_type": "markdown",
   "metadata": {},
   "source": [
    "#### Load Documents             \n",
    "* Langchain have multiple document loaders buildin which loads a document into **langchain_core.documents.base.Document** type.          \n",
    "* Langchain have several inbulit document loaders - \n",
    "    * CSV      \n",
    "    * HTML         \n",
    "    * JSON        \n",
    "    * Markdown      \n",
    "    * PDF      \n",
    "    * Microsoft"
   ]
  },
  {
   "cell_type": "code",
   "execution_count": 20,
   "metadata": {},
   "outputs": [],
   "source": [
    "from langchain_core.document_loaders import BaseLoader\n",
    "from langchain_core.documents import Document\n",
    "from typing import Iterator\n",
    "\n",
    "class TextDocumentLoader(BaseLoader):\n",
    "    def __init__(self, path:str):\n",
    "        self.path = path     #file path\n",
    "    def lazy_load(self) -> Iterator[Document]:\n",
    "        with open(self.path, encoding='utf=8') as file:\n",
    "            for i,line in enumerate(file):\n",
    "                yield Document(page_content=line,metadata={'line_number':i})\n",
    "    def load(self) -> list[Document]:\n",
    "        return super().load()\n",
    "    def full_load(self) -> Document:\n",
    "        with open(self.path, encoding='utf-8') as file:\n",
    "            text = file.read()\n",
    "            return Document(page_content=text, metadata={'file_path':self.path})"
   ]
  },
  {
   "cell_type": "code",
   "execution_count": null,
   "metadata": {},
   "outputs": [
    {
     "name": "stdout",
     "output_type": "stream",
     "text": [
      "page_content='Hello this is line 1.\n",
      "' metadata={'line_number': 0}\n",
      "page_content='This is the 2nd line of the document.\n",
      "' metadata={'line_number': 1}\n",
      "page_content='This is the 3rd line of the document.\n",
      "' metadata={'line_number': 2}\n",
      "page_content='This is the 4th and the final line of the document.' metadata={'line_number': 3}\n"
     ]
    }
   ],
   "source": [
    "from pathlib import Path\n",
    "\n",
    "file_path = Path(\"text.txt\")\n",
    "loader = TextDocumentLoader(file_path).lazy_load()\n",
    "for doc in loader:\n",
    "    print(doc)"
   ]
  },
  {
   "cell_type": "code",
   "execution_count": 17,
   "metadata": {},
   "outputs": [
    {
     "data": {
      "text/plain": [
       "[Document(metadata={'line_number': 0}, page_content='Hello this is line 1.\\n'),\n",
       " Document(metadata={'line_number': 1}, page_content='This is the 2nd line of the document.\\n'),\n",
       " Document(metadata={'line_number': 2}, page_content='This is the 3rd line of the document.\\n'),\n",
       " Document(metadata={'line_number': 3}, page_content='This is the 4th and the final line of the document.')]"
      ]
     },
     "execution_count": 17,
     "metadata": {},
     "output_type": "execute_result"
    }
   ],
   "source": [
    "TextDocumentLoader(file_path).load()"
   ]
  },
  {
   "cell_type": "code",
   "execution_count": 22,
   "metadata": {},
   "outputs": [],
   "source": [
    "document = TextDocumentLoader(file_path).full_load()"
   ]
  },
  {
   "cell_type": "markdown",
   "metadata": {},
   "source": [
    "#### Text Splitter              \n",
    "* After a document is loaded the document must be split into text chunks.             \n",
    "* Different statergies can be used to split the text into different chunks.           \n",
    "* Most common text splitters -      \n",
    "    * Character chunker        \n",
    "    * Sematic Chucking"
   ]
  },
  {
   "cell_type": "code",
   "execution_count": null,
   "metadata": {},
   "outputs": [],
   "source": []
  },
  {
   "cell_type": "code",
   "execution_count": 2,
   "metadata": {},
   "outputs": [
    {
     "data": {
      "text/plain": [
       "generator"
      ]
     },
     "execution_count": 2,
     "metadata": {},
     "output_type": "execute_result"
    }
   ],
   "source": [
    "#generator function\n",
    "def count_to_n(n):\n",
    "    count = 1\n",
    "    while count<n+1:\n",
    "        yield count\n",
    "        count += 1\n",
    "\n",
    "counter = count_to_n(10)\n",
    "type(counter)"
   ]
  },
  {
   "cell_type": "code",
   "execution_count": 3,
   "metadata": {},
   "outputs": [
    {
     "name": "stdout",
     "output_type": "stream",
     "text": [
      "count = 1\n",
      "Break\n",
      "count = 2\n",
      "Break\n",
      "count = 3\n",
      "Break\n",
      "count = 4\n",
      "Break\n",
      "count = 5\n",
      "Break\n",
      "count = 6\n",
      "Break\n",
      "count = 7\n",
      "Break\n",
      "count = 8\n",
      "Break\n",
      "count = 9\n",
      "Break\n",
      "count = 10\n",
      "Break\n"
     ]
    }
   ],
   "source": [
    "for count in counter:\n",
    "    print(f\"count = {count}\")\n",
    "    print(\"Break\")"
   ]
  }
 ],
 "metadata": {
  "kernelspec": {
   "display_name": "venv",
   "language": "python",
   "name": "python3"
  },
  "language_info": {
   "codemirror_mode": {
    "name": "ipython",
    "version": 3
   },
   "file_extension": ".py",
   "mimetype": "text/x-python",
   "name": "python",
   "nbconvert_exporter": "python",
   "pygments_lexer": "ipython3",
   "version": "3.11.3"
  }
 },
 "nbformat": 4,
 "nbformat_minor": 2
}
